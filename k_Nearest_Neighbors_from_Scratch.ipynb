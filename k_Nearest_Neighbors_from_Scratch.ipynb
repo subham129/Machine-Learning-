{
  "nbformat": 4,
  "nbformat_minor": 0,
  "metadata": {
    "colab": {
      "provenance": [],
      "authorship_tag": "ABX9TyOWXJnnhvzzOxRmj3Nrm/xn",
      "include_colab_link": true
    },
    "kernelspec": {
      "name": "python3",
      "display_name": "Python 3"
    },
    "language_info": {
      "name": "python"
    }
  },
  "cells": [
    {
      "cell_type": "markdown",
      "metadata": {
        "id": "view-in-github",
        "colab_type": "text"
      },
      "source": [
        "<a href=\"https://colab.research.google.com/github/subham129/Machine-Learning-/blob/main/k_Nearest_Neighbors_from_Scratch.ipynb\" target=\"_parent\"><img src=\"https://colab.research.google.com/assets/colab-badge.svg\" alt=\"Open In Colab\"/></a>"
      ]
    },
    {
      "cell_type": "code",
      "source": [
        "import numpy as np\n",
        "import pandas as pd\n",
        "import statistics"
      ],
      "metadata": {
        "id": "VNkCp9xq9ZRj"
      },
      "execution_count": 29,
      "outputs": []
    },
    {
      "cell_type": "code",
      "execution_count": 1,
      "metadata": {
        "id": "TBOefaHo8cic"
      },
      "outputs": [],
      "source": [
        "p1 = (1,1)\n",
        "p2 = (2,2)"
      ]
    },
    {
      "cell_type": "markdown",
      "source": [
        "**Euclidean distance**"
      ],
      "metadata": {
        "id": "xTXscBWZ9uK7"
      }
    },
    {
      "cell_type": "code",
      "source": [
        "dist = (p1[0] - p2[0])**2 + (p1[1] - p2[1])**2\n",
        "euclidean_dist = np.sqrt(dist)\n",
        "print(euclidean_dist)"
      ],
      "metadata": {
        "colab": {
          "base_uri": "https://localhost:8080/"
        },
        "id": "0dhRKB0s9YMs",
        "outputId": "0e4af624-8572-44b5-cb56-49de16a31189"
      },
      "execution_count": 3,
      "outputs": [
        {
          "output_type": "stream",
          "name": "stdout",
          "text": [
            "1.4142135623730951\n"
          ]
        }
      ]
    },
    {
      "cell_type": "code",
      "source": [
        "def euclidean_dist(p1, p2):\n",
        "\n",
        "   dist = 0\n",
        "   for i in range(len(p1)):\n",
        "      dist = dist + (p1[i] - p2[i])**2\n",
        "   euclidean_dist = np.sqrt(dist)\n",
        "   print(euclidean_dist)"
      ],
      "metadata": {
        "id": "W50rD0o8910G"
      },
      "execution_count": 24,
      "outputs": []
    },
    {
      "cell_type": "code",
      "source": [
        "p3,p4 = (1,1,1),(2,2,2)"
      ],
      "metadata": {
        "id": "jDyGliVs-o5s"
      },
      "execution_count": 25,
      "outputs": []
    },
    {
      "cell_type": "code",
      "source": [
        "euclidean_dist((1,1,1),(2,2,2))"
      ],
      "metadata": {
        "colab": {
          "base_uri": "https://localhost:8080/"
        },
        "id": "mtp2x35Y-h1d",
        "outputId": "2c6263b9-3b35-4144-eb8a-4d26031f75bd"
      },
      "execution_count": 26,
      "outputs": [
        {
          "output_type": "stream",
          "name": "stdout",
          "text": [
            "1.7320508075688772\n"
          ]
        }
      ]
    },
    {
      "cell_type": "code",
      "source": [],
      "metadata": {
        "id": "XDvoMQ7D_cXN"
      },
      "execution_count": null,
      "outputs": []
    },
    {
      "cell_type": "markdown",
      "source": [
        "**MANHATTAN DISTANCE**\n"
      ],
      "metadata": {
        "id": "PXsuVTsK_clk"
      }
    },
    {
      "cell_type": "code",
      "source": [
        "def manhattan_dist(p1, p2):\n",
        "\n",
        "   dist = 0\n",
        "   for i in range(len(p1)):\n",
        "      dist = dist + (p1[i] - p2[i])\n",
        "   manhattan_dist = np.abs(dist)\n",
        "   print(manhattan_dist)"
      ],
      "metadata": {
        "id": "SU_tU6Od_kjU"
      },
      "execution_count": 27,
      "outputs": []
    },
    {
      "cell_type": "code",
      "source": [
        "manhattan_dist((1,1,1,1),(2,2,2,2))"
      ],
      "metadata": {
        "colab": {
          "base_uri": "https://localhost:8080/"
        },
        "id": "g4o4XAuVAJa2",
        "outputId": "61fb9262-8962-4074-c7a9-43f937c71b18"
      },
      "execution_count": 28,
      "outputs": [
        {
          "output_type": "stream",
          "name": "stdout",
          "text": [
            "4\n"
          ]
        }
      ]
    },
    {
      "cell_type": "markdown",
      "source": [
        "**k-NEAREST NEIGHBORS FROM SCRATCH**"
      ],
      "metadata": {
        "id": "EFS3ou9zBkP7"
      }
    },
    {
      "cell_type": "code",
      "source": [
        "class KNN_Classifier():\n",
        "\n",
        "  def __init__(self,distance,):\n",
        "    self.distance = distance\n",
        "\n",
        "  def get_distance(self,training_data,test_data):\n",
        "    if (self.distance == 'euclidean'):\n",
        "      dist = 0\n",
        "      for i in range(len(training_data)):\n",
        "        dist = dist + (training_data[i] - test_data[i])**2\n",
        "      euclidean_dist = np.sqrt(dist)\n",
        "      return euclidean_dist\n",
        "\n",
        "    elif (self.distance == 'manhattan'):\n",
        "      dist = 0\n",
        "      for i in range(len(training_data)):\n",
        "        dist = dist + (training_data[i] - test_data[i])\n",
        "        manhattan_dist = np.abs(dist)\n",
        "      return manhattan_dist\n",
        "\n",
        "\n",
        "  def nearest_neighbors(self,x_train,test_data,k):\n",
        "    distance_list = []\n",
        "    for i in range(len(x_train)):\n",
        "      distance = self.get_distance(x_train[i],test_data)\n",
        "      distance_list.append((distance,i))\n",
        "\n",
        "    distance_list.sort(key=lambda x:x[1])\n",
        "\n",
        "\n",
        "    neighbors = []\n",
        "    for j in range(k):\n",
        "      neighbors.append(distance_list[j][0])\n",
        "    return neighbors\n",
        "\n",
        "\n",
        "  def predict(self,x_train,test_data,k):\n",
        "    neighbors = self.nearest_neighbors(x_train,test_data,k)\n",
        "\n",
        "    for data in neighbors:\n",
        "      label = []\n",
        "      label.append(data[-1])\n",
        "\n",
        "    prediction = statistics.mode(neighbors)\n",
        "    return prediction\n",
        "\n"
      ],
      "metadata": {
        "id": "XsGHQ0UIBj0F"
      },
      "execution_count": 30,
      "outputs": []
    }
  ]
}