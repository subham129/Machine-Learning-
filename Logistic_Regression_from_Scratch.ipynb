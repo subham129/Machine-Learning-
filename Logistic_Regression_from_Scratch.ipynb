{
  "nbformat": 4,
  "nbformat_minor": 0,
  "metadata": {
    "colab": {
      "provenance": [],
      "authorship_tag": "ABX9TyPCXJ9y1B9m2w/lUqn79xM4",
      "include_colab_link": true
    },
    "kernelspec": {
      "name": "python3",
      "display_name": "Python 3"
    },
    "language_info": {
      "name": "python"
    }
  },
  "cells": [
    {
      "cell_type": "markdown",
      "metadata": {
        "id": "view-in-github",
        "colab_type": "text"
      },
      "source": [
        "<a href=\"https://colab.research.google.com/github/subham129/Machine-Learning-/blob/main/Logistic_Regression_from_Scratch.ipynb\" target=\"_parent\"><img src=\"https://colab.research.google.com/assets/colab-badge.svg\" alt=\"Open In Colab\"/></a>"
      ]
    },
    {
      "cell_type": "code",
      "execution_count": 1,
      "metadata": {
        "id": "ovmDx4FxLXmL"
      },
      "outputs": [],
      "source": [
        "import numpy as np\n",
        "import pandas as pd"
      ]
    },
    {
      "cell_type": "code",
      "source": [
        "class Logistic_Regression:\n",
        "\n",
        "  def __init__(self,lr=0.001,n_iters=1000):\n",
        "    self.lr = lr\n",
        "    self.n_iters = n_iters\n",
        "    self.weights = None\n",
        "    self.bias = None\n",
        "\n",
        "\n",
        "  def fit(self,x,y):\n",
        "    self.m,self.n = x.shape\n",
        "    self.weights = np.zeros(self.n)\n",
        "    self.bias = 0\n",
        "    self.x = x\n",
        "    self.y = y\n",
        "\n",
        "    for i in range(self.n_iters):\n",
        "      self.update_weights()\n",
        "\n",
        "  def update_weights(self):\n",
        "    y_hat = 1/(1+np.exp(-(self.x.dot(self.weights)+self.bias)))\n",
        "\n",
        "    dw = (1/self.m)*np.dot(self.x.T,(y_hat-self.y))\n",
        "    db = (1/self.m)*np.sum(y_hat-self.y)\n",
        "\n",
        "    self.weights = self.weights - self.lr*dw\n",
        "    self.bias = self.bias - self.lr*db\n",
        "\n",
        "  def predict(self):\n",
        "    y_pred = 1/(1+np.exp(-(self.x.dot(self.weights)+self.bias)))\n",
        "    y_pred = np.where(y_pred>0.5,1,0)\n",
        "    return y_pred\n",
        "\n",
        "\n",
        "  def accuracy(self,y_pred,y):\n",
        "    return np.sum(y_pred==y)/len(y)"
      ],
      "metadata": {
        "id": "9J3VtgwDVvbH"
      },
      "execution_count": 3,
      "outputs": []
    }
  ]
}